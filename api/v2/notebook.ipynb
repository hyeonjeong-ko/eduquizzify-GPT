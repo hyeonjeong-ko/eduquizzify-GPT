{
 "cells": [
  {
   "cell_type": "code",
   "execution_count": 5,
   "metadata": {},
   "outputs": [
    {
     "ename": "SyntaxError",
     "evalue": "invalid syntax (2552295309.py, line 1)",
     "output_type": "error",
     "traceback": [
      "\u001b[0;36m  Cell \u001b[0;32mIn[5], line 1\u001b[0;36m\u001b[0m\n\u001b[0;31m    brew install ffmpeg\u001b[0m\n\u001b[0m         ^\u001b[0m\n\u001b[0;31mSyntaxError\u001b[0m\u001b[0;31m:\u001b[0m invalid syntax\n"
     ]
    }
   ],
   "source": [
    "brew install ffmpeg"
   ]
  },
  {
   "cell_type": "code",
   "execution_count": 26,
   "metadata": {},
   "outputs": [
    {
     "name": "stderr",
     "output_type": "stream",
     "text": [
      "ffmpeg version 7.1 Copyright (c) 2000-2024 the FFmpeg developers\n",
      "  built with Apple clang version 15.0.0 (clang-1500.1.0.2.5)\n",
      "  configuration: --prefix=/opt/homebrew/Cellar/ffmpeg/7.1 --enable-shared --enable-pthreads --enable-version3 --cc=clang --host-cflags= --host-ldflags='-Wl,-ld_classic' --enable-ffplay --enable-gnutls --enable-gpl --enable-libaom --enable-libaribb24 --enable-libbluray --enable-libdav1d --enable-libharfbuzz --enable-libjxl --enable-libmp3lame --enable-libopus --enable-librav1e --enable-librist --enable-librubberband --enable-libsnappy --enable-libsrt --enable-libssh --enable-libsvtav1 --enable-libtesseract --enable-libtheora --enable-libvidstab --enable-libvmaf --enable-libvorbis --enable-libvpx --enable-libwebp --enable-libx264 --enable-libx265 --enable-libxml2 --enable-libxvid --enable-lzma --enable-libfontconfig --enable-libfreetype --enable-frei0r --enable-libass --enable-libopencore-amrnb --enable-libopencore-amrwb --enable-libopenjpeg --enable-libspeex --enable-libsoxr --enable-libzmq --enable-libzimg --disable-libjack --disable-indev=jack --enable-videotoolbox --enable-audiotoolbox --enable-neon\n",
      "  libavutil      59. 39.100 / 59. 39.100\n",
      "  libavcodec     61. 19.100 / 61. 19.100\n",
      "  libavformat    61.  7.100 / 61.  7.100\n",
      "  libavdevice    61.  3.100 / 61.  3.100\n",
      "  libavfilter    10.  4.100 / 10.  4.100\n",
      "  libswscale      8.  3.100 /  8.  3.100\n",
      "  libswresample   5.  3.100 /  5.  3.100\n",
      "  libpostproc    58.  3.100 / 58.  3.100\n",
      "Input #0, mov,mp4,m4a,3gp,3g2,mj2, from './files/podcast.mov':\n",
      "  Metadata:\n",
      "    major_brand     : qt  \n",
      "    minor_version   : 0\n",
      "    compatible_brands: qt  \n",
      "    creation_time   : 2024-10-07T11:15:27.000000Z\n",
      "    com.apple.quicktime.make: Apple\n",
      "    com.apple.quicktime.model: Mac14,9\n",
      "    com.apple.quicktime.software: macOS 13.2.1 (22D68)\n",
      "    com.apple.quicktime.creationdate: 2024-10-07T20:15:25+0900\n",
      "  Duration: 00:35:37.43, start: 0.000000, bitrate: 15239 kb/s\n",
      "  Stream #0:0[0x1](und): Video: h264 (Main) (avc1 / 0x31637661), yuv420p(tv, bt709, progressive), 3024x1964, 14640 kb/s, 60 fps, 60 tbr, 6k tbn (default)\n",
      "      Metadata:\n",
      "        creation_time   : 2024-10-07T11:15:27.000000Z\n",
      "        handler_name    : Core Media Video\n",
      "        vendor_id       : [0][0][0][0]\n",
      "        encoder         : H.264\n",
      "  Stream #0:1[0x2](und): Audio: aac (LC) (mp4a / 0x6134706D), 48000 Hz, stereo, fltp, 246 kb/s (default)\n",
      "      Metadata:\n",
      "        creation_time   : 2024-10-07T11:15:27.000000Z\n",
      "        handler_name    : Core Media Audio\n",
      "        vendor_id       : [0][0][0][0]\n",
      "Stream mapping:\n",
      "  Stream #0:1 -> #0:0 (aac (native) -> mp3 (libmp3lame))\n",
      "Press [q] to stop, [?] for help\n",
      "Output #0, mp3, to './files/podcast.mp3':\n",
      "  Metadata:\n",
      "    major_brand     : qt  \n",
      "    minor_version   : 0\n",
      "    compatible_brands: qt  \n",
      "    com.apple.quicktime.creationdate: 2024-10-07T20:15:25+0900\n",
      "    com.apple.quicktime.make: Apple\n",
      "    com.apple.quicktime.model: Mac14,9\n",
      "    com.apple.quicktime.software: macOS 13.2.1 (22D68)\n",
      "    TSSE            : Lavf61.7.100\n",
      "  Stream #0:0(und): Audio: mp3, 48000 Hz, stereo, fltp (default)\n",
      "      Metadata:\n",
      "        creation_time   : 2024-10-07T11:15:27.000000Z\n",
      "        handler_name    : Core Media Audio\n",
      "        vendor_id       : [0][0][0][0]\n",
      "        encoder         : Lavc61.19.100 libmp3lame\n",
      "[out#0/mp3 @ 0x1580048e0] video:0KiB audio:33398KiB subtitle:0KiB other streams:0KiB global headers:0KiB muxing overhead: 0.001585%\n",
      "size=   33399KiB time=00:35:37.45 bitrate= 128.0kbits/s speed= 171x    \n"
     ]
    }
   ],
   "source": [
    "import subprocess\n",
    "\n",
    "\n",
    "def extract_audio_from_video(video_path, audio_path):\n",
    "    command = [\n",
    "        \"ffmpeg\",\n",
    "        \"-i\",\n",
    "        video_path,  # 입력 비디오 파일\n",
    "        \"-vn\",  # 비디오 없이 오디오만 추출\n",
    "        \"-acodec\",\n",
    "        \"mp3\",  # 오디오 코덱을 mp3로 설정\n",
    "        audio_path,  # 출력 오디오 파일\n",
    "    ]\n",
    "    subprocess.run(command)\n",
    "\n",
    "\n",
    "# 사용 예시\n",
    "extract_audio_from_video(\n",
    "    \"./files/podcast.mov\",  # 올바른 상대 경로\n",
    "    \"./files/podcast.mp3\",  # mp3 파일을 저장할 경로\n",
    ")"
   ]
  },
  {
   "cell_type": "code",
   "execution_count": 25,
   "metadata": {},
   "outputs": [
    {
     "name": "stdout",
     "output_type": "stream",
     "text": [
      "?podcast.mov\n"
     ]
    }
   ],
   "source": [
    "ls /Users/gohyeonjeong/Desktop/myFolder/vscode-projects/eduquizzify-GPT/api/v2/files/"
   ]
  },
  {
   "cell_type": "code",
   "execution_count": 28,
   "metadata": {},
   "outputs": [],
   "source": [
    "import math\n",
    "from pydub import AudioSegment\n",
    "\n",
    "\n",
    "track = AudioSegment.from_mp3(\"./files/podcast.mp3\")\n",
    "\n",
    "ten_minutes = 10 * 60 * 1000\n",
    "\n",
    "chunks = math.ceil(len(track) / ten_minutes)\n",
    "\n",
    "for i in range(chunks):\n",
    "    start_time = i * ten_minutes\n",
    "    end_time = (i + 1) * ten_minutes\n",
    "\n",
    "    chunk = track[start_time:end_time]\n",
    "\n",
    "    chunk.export(f\"./files/chunks/chunk_{i}.mp3\", format=\"mp3\")"
   ]
  },
  {
   "cell_type": "code",
   "execution_count": 29,
   "metadata": {},
   "outputs": [],
   "source": [
    "import glob\n",
    "import openai\n",
    "\n",
    "\n",
    "def transcribe_chunks(chunk_folder, destination):\n",
    "    files = glob.glob(f\"{chunk_folder}/*.mp3\")\n",
    "    for file in files:\n",
    "        with open(file, \"rb\") as audio_file, open(destination, \"a\") as text_file:\n",
    "            transcript = openai.Audio.transcribe(\n",
    "                \"whisper-1\",\n",
    "                audio_file,\n",
    "            )\n",
    "            text_file.write(transcript[\"text\"] + \"\\n\")\n",
    "\n",
    "\n",
    "# Step 2: Transcribe the chunks\n",
    "chunk_folder = \"./files/chunks\"\n",
    "destination = \"./files/transcription.txt\"\n",
    "\n",
    "# Transcribe the chunks and write the results to the destination file\n",
    "transcribe_chunks(chunk_folder, destination)"
   ]
  },
  {
   "cell_type": "code",
   "execution_count": 45,
   "metadata": {},
   "outputs": [
    {
     "name": "stdout",
     "output_type": "stream",
     "text": [
      "[youtube] Extracting URL: https://youtu.be/Y6BWdY1Kuy0?si=Ur8is9Hhu8l8E7nM\n",
      "[youtube] Y6BWdY1Kuy0: Downloading webpage\n",
      "[youtube] Y6BWdY1Kuy0: Downloading ios player API JSON\n",
      "[youtube] Y6BWdY1Kuy0: Downloading mweb player API JSON\n",
      "[youtube] Y6BWdY1Kuy0: Downloading player e627e516\n",
      "[youtube] Y6BWdY1Kuy0: Downloading m3u8 information\n",
      "[info] Y6BWdY1Kuy0: Downloading 1 format(s): 251\n",
      "[download] Destination: ./files/강좌 소개 ⟪ 한국인이 가장 싫어하는 필수 영어 ⟫.webm\n",
      "[download] 100% of    6.20MiB in 00:00:00 at 20.99MiB/s  \n",
      "[ExtractAudio] Destination: ./files/강좌 소개 ⟪ 한국인이 가장 싫어하는 필수 영어 ⟫.mp3\n",
      "Deleting original file ./files/강좌 소개 ⟪ 한국인이 가장 싫어하는 필수 영어 ⟫.webm (pass -k to keep)\n"
     ]
    }
   ],
   "source": [
    "import yt_dlp\n",
    "\n",
    "\n",
    "def download_audio_with_ytdlp(youtube_link, output_path):\n",
    "    ydl_opts = {\n",
    "        \"format\": \"bestaudio/best\",\n",
    "        \"postprocessors\": [\n",
    "            {\n",
    "                \"key\": \"FFmpegExtractAudio\",\n",
    "                \"preferredcodec\": \"mp3\",\n",
    "                \"preferredquality\": \"192\",\n",
    "            }\n",
    "        ],\n",
    "        \"outtmpl\": f\"{output_path}/%(title)s.%(ext)s\",\n",
    "    }\n",
    "\n",
    "    with yt_dlp.YoutubeDL(ydl_opts) as ydl:\n",
    "        ydl.download([youtube_link])\n",
    "\n",
    "\n",
    "# 사용 예시\n",
    "download_audio_with_ytdlp(\"https://youtu.be/Y6BWdY1Kuy0?si=Ur8is9Hhu8l8E7nM\", \"./files\")"
   ]
  },
  {
   "cell_type": "code",
   "execution_count": null,
   "metadata": {},
   "outputs": [],
   "source": []
  }
 ],
 "metadata": {
  "kernelspec": {
   "display_name": "env",
   "language": "python",
   "name": "python3"
  },
  "language_info": {
   "codemirror_mode": {
    "name": "ipython",
    "version": 3
   },
   "file_extension": ".py",
   "mimetype": "text/x-python",
   "name": "python",
   "nbconvert_exporter": "python",
   "pygments_lexer": "ipython3",
   "version": "3.11.9"
  }
 },
 "nbformat": 4,
 "nbformat_minor": 2
}
